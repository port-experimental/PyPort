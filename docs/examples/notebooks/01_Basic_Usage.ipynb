{
 "cells": [
  {
   "cell_type": "markdown",
   "metadata": {},
   "source": [
    "# PyPort Basic Usage\n",
    "\n",
    "This notebook demonstrates the basic usage of the PyPort library for interacting with the Port API.\n",
    "\n",
    "## Setup\n",
    "\n",
    "First, we need to install the PyPort library if it's not already installed:"
   ]
  },
  {
   "cell_type": "code",
   "execution_count": null,
   "metadata": {},
   "source": [
    "# Uncomment and run this cell if you need to install PyPort\n",
    "# !pip install pyport"
   ]
  },
  {
   "cell_type": "markdown",
   "metadata": {},
   "source": [
    "Next, we'll import the necessary modules and set up our API credentials:"
   ]
  },
  {
   "cell_type": "code",
   "execution_count": null,
   "metadata": {},
   "source": [
    "import os\n",
    "import json\n",
    "from typing import Dict, Any\n",
    "import pandas as pd\n",
    "import matplotlib.pyplot as plt\n",
    "from IPython.display import display, HTML\n",
    "\n",
    "# Import PyPort\n",
    "from pyport import PortClient\n",
    "from pyport.exceptions import PortApiError\n",
    "\n",
    "# Helper function to pretty-print JSON\n",
    "def print_json(data: Dict[str, Any]) -> None:\n",
    "    \"\"\"Print JSON data in a readable format.\"\"\"\n",
    "    print(json.dumps(data, indent=2))"
   ]
  },
  {
   "cell_type": "markdown",
   "metadata": {},
   "source": [
    "Set your Port API credentials. You can either set them as environment variables or directly in this notebook:"
   ]
  },
  {
   "cell_type": "code",
   "execution_count": null,
   "metadata": {},
   "source": [
    "# Option 1: Get credentials from environment variables\n",
    "client_id = os.environ.get('PORT_CLIENT_ID')\n",
    "client_secret = os.environ.get('PORT_CLIENT_SECRET')\n",
    "\n",
    "# Option 2: Set credentials directly (not recommended for shared notebooks)\n",
    "# client_id = \"your-client-id\"\n",
    "# client_secret = \"your-client-secret\"\n",
    "\n",
    "# Check if credentials are set\n",
    "if not client_id or not client_secret:\n",
    "    print(\"Warning: PORT_CLIENT_ID and PORT_CLIENT_SECRET environment variables are not set.\")\n",
    "    print(\"Please set these variables or provide them directly in the notebook.\")\n",
    "else:\n",
    "    print(\"✅ API credentials are set!\")"
   ]
  },
  {
   "cell_type": "markdown",
   "metadata": {},
   "source": [
    "## Initializing the Client\n",
    "\n",
    "Now, let's initialize the Port client:"
   ]
  },
  {
   "cell_type": "code",
   "execution_count": null,
   "metadata": {},
   "source": [
    "# Initialize the Port client\n",
    "client = PortClient(\n",
    "    client_id=client_id,\n",
    "    client_secret=client_secret\n",
    ")\n",
    "\n",
    "print(\"✅ Client initialized successfully!\")"
   ]
  },
  {
   "cell_type": "markdown",
   "metadata": {},
   "source": [
    "## Getting Blueprints\n",
    "\n",
    "Let's get all blueprints from your Port instance:"
   ]
  },
  {
   "cell_type": "code",
   "execution_count": null,
   "metadata": {},
   "source": [
    "try:\n",
    "    blueprints = client.blueprints.get_blueprints()\n",
    "    print(f\"✅ Retrieved {len(blueprints)} blueprints!\")\n",
    "    \n",
    "    # Convert to DataFrame for better visualization\n",
    "    blueprint_data = []\n",
    "    for bp in blueprints:\n",
    "        blueprint_data.append({\n",
    "            \"identifier\": bp.get(\"identifier\"),\n",
    "            \"title\": bp.get(\"title\"),\n",
    "            \"description\": bp.get(\"description\", \"\")[:50] + \"...\" if bp.get(\"description\", \"\") else \"\",\n",
    "            \"created_at\": bp.get(\"createdAt\"),\n",
    "            \"updated_at\": bp.get(\"updatedAt\")\n",
    "        })\n",
    "    \n",
    "    # Create and display DataFrame\n",
    "    blueprint_df = pd.DataFrame(blueprint_data)\n",
    "    display(blueprint_df)\n",
    "    \n",
    "    # Store the first blueprint identifier for later use\n",
    "    first_blueprint_id = blueprints[0][\"identifier\"] if blueprints else None\n",
    "except PortApiError as e:\n",
    "    print(f\"❌ Error retrieving blueprints: {e}\")"
   ]
  },
  {
   "cell_type": "markdown",
   "metadata": {},
   "source": [
    "## Getting Blueprint Details\n",
    "\n",
    "Now, let's get details for a specific blueprint:"
   ]
  },
  {
   "cell_type": "code",
   "execution_count": null,
   "metadata": {},
   "source": [
    "if first_blueprint_id:\n",
    "    try:\n",
    "        blueprint = client.blueprints.get_blueprint(first_blueprint_id)\n",
    "        print(f\"✅ Retrieved details for blueprint '{blueprint['title']}' ({blueprint['identifier']})!\")\n",
    "        \n",
    "        # Display blueprint properties\n",
    "        print(\"\\nBlueprint Properties:\")\n",
    "        if \"schema\" in blueprint and \"properties\" in blueprint[\"schema\"]:\n",
    "            properties = blueprint[\"schema\"][\"properties\"]\n",
    "            property_data = []\n",
    "            for prop_name, prop_details in properties.items():\n",
    "                property_data.append({\n",
    "                    \"name\": prop_name,\n",
    "                    \"title\": prop_details.get(\"title\", prop_name),\n",
    "                    \"type\": prop_details.get(\"type\", \"unknown\"),\n",
    "                    \"required\": prop_name in blueprint[\"schema\"].get(\"required\", [])\n",
    "                })\n",
    "            \n",
    "            # Create and display DataFrame\n",
    "            property_df = pd.DataFrame(property_data)\n",
    "            display(property_df)\n",
    "        else:\n",
    "            print(\"No properties defined for this blueprint.\")\n",
    "    except PortApiError as e:\n",
    "        print(f\"❌ Error retrieving blueprint details: {e}\")\n",
    "else:\n",
    "    print(\"No blueprints available to get details for.\")"
   ]
  },
  {
   "cell_type": "markdown",
   "metadata": {},
   "source": [
    "## Getting Entities\n",
    "\n",
    "Let's get all entities for a specific blueprint:"
   ]
  },
  {
   "cell_type": "code",
   "execution_count": null,
   "metadata": {},
   "source": [
    "if first_blueprint_id:\n",
    "    try:\n",
    "        entities = client.entities.get_entities(first_blueprint_id)\n",
    "        print(f\"✅ Retrieved {len(entities)} entities for blueprint '{first_blueprint_id}'!\")\n",
    "        \n",
    "        # Convert to DataFrame for better visualization\n",
    "        entity_data = []\n",
    "        for entity in entities:\n",
    "            entity_data.append({\n",
    "                \"identifier\": entity.get(\"identifier\"),\n",
    "                \"title\": entity.get(\"title\"),\n",
    "                \"created_at\": entity.get(\"createdAt\"),\n",
    "                \"updated_at\": entity.get(\"updatedAt\")\n",
    "            })\n",
    "        \n",
    "        # Create and display DataFrame\n",
    "        if entity_data:\n",
    "            entity_df = pd.DataFrame(entity_data)\n",
    "            display(entity_df)\n",
    "        else:\n",
    "            print(\"No entities found for this blueprint.\")\n",
    "        \n",
    "        # Store the first entity identifier for later use\n",
    "        first_entity_id = entities[0][\"identifier\"] if entities else None\n",
    "    except PortApiError as e:\n",
    "        print(f\"❌ Error retrieving entities: {e}\")\n",
    "else:\n",
    "    print(\"No blueprints available to get entities for.\")"
   ]
  },
  {
   "cell_type": "markdown",
   "metadata": {},
   "source": [
    "## Getting Entity Details\n",
    "\n",
    "Now, let's get details for a specific entity:"
   ]
  },
  {
   "cell_type": "code",
   "execution_count": null,
   "metadata": {},
   "source": [
    "if first_blueprint_id and first_entity_id:\n",
    "    try:\n",
    "        entity = client.entities.get_entity(first_blueprint_id, first_entity_id)\n",
    "        print(f\"✅ Retrieved details for entity '{entity['title']}' ({entity['identifier']})!\")\n",
    "        \n",
    "        # Display entity properties\n",
    "        print(\"\\nEntity Properties:\")\n",
    "        if \"properties\" in entity:\n",
    "            properties = entity[\"properties\"]\n",
    "            property_data = []\n",
    "            for prop_name, prop_value in properties.items():\n",
    "                property_data.append({\n",
    "                    \"name\": prop_name,\n",
    "                    \"value\": str(prop_value) if not isinstance(prop_value, (dict, list)) else json.dumps(prop_value)\n",
    "                })\n",
    "            \n",
    "            # Create and display DataFrame\n",
    "            property_df = pd.DataFrame(property_data)\n",
    "            display(property_df)\n",
    "        else:\n",
    "            print(\"No properties defined for this entity.\")\n",
    "    except PortApiError as e:\n",
    "        print(f\"❌ Error retrieving entity details: {e}\")\n",
    "else:\n",
    "    print(\"No entities available to get details for.\")"
   ]
  },
  {
   "cell_type": "markdown",
   "metadata": {},
   "source": [
    "## Getting Actions\n",
    "\n",
    "Let's get all actions from your Port instance:"
   ]
  },
  {
   "cell_type": "code",
   "execution_count": null,
   "metadata": {},
   "source": [
    "try:\n",
    "    actions = client.actions.get_actions()\n",
    "    print(f\"✅ Retrieved {len(actions)} actions!\")\n",
    "    \n",
    "    # Convert to DataFrame for better visualization\n",
    "    action_data = []\n",
    "    for action in actions:\n",
    "        action_data.append({\n",
    "            \"identifier\": action.get(\"identifier\"),\n",
    "            \"title\": action.get(\"title\"),\n",
    "            \"trigger_type\": action.get(\"trigger\", {}).get(\"type\"),\n",
    "            \"invocation_type\": action.get(\"invocationMethod\", {}).get(\"type\"),\n",
    "            \"created_at\": action.get(\"createdAt\")\n",
    "        })\n",
    "    \n",
    "    # Create and display DataFrame\n",
    "    if action_data:\n",
    "        action_df = pd.DataFrame(action_data)\n",
    "        display(action_df)\n",
    "    else:\n",
    "        print(\"No actions found.\")\n",
    "except PortApiError as e:\n",
    "    print(f\"❌ Error retrieving actions: {e}\")"
   ]
  },
  {
   "cell_type": "markdown",
   "metadata": {},
   "source": [
    "## Visualizing Blueprint Distribution\n",
    "\n",
    "Let's create a visualization of the entity distribution across blueprints:"
   ]
  },
  {
   "cell_type": "code",
   "execution_count": null,
   "metadata": {},
   "source": [
    "try:\n",
    "    # Get all blueprints\n",
    "    blueprints = client.blueprints.get_blueprints()\n",
    "    \n",
    "    # Count entities for each blueprint\n",
    "    blueprint_counts = []\n",
    "    for bp in blueprints:\n",
    "        bp_id = bp[\"identifier\"]\n",
    "        try:\n",
    "            entities = client.entities.get_entities(bp_id)\n",
    "            blueprint_counts.append({\n",
    "                \"blueprint\": bp[\"title\"],\n",
    "                \"count\": len(entities)\n",
    "            })\n",
    "        except PortApiError:\n",
    "            # Skip if we can't get entities for this blueprint\n",
    "            pass\n",
    "    \n",
    "    # Create DataFrame\n",
    "    count_df = pd.DataFrame(blueprint_counts)\n",
    "    \n",
    "    # Create visualization\n",
    "    plt.figure(figsize=(10, 6))\n",
    "    plt.bar(count_df[\"blueprint\"], count_df[\"count\"])\n",
    "    plt.xlabel(\"Blueprint\")\n",
    "    plt.ylabel(\"Number of Entities\")\n",
    "    plt.title(\"Entity Distribution Across Blueprints\")\n",
    "    plt.xticks(rotation=45, ha=\"right\")\n",
    "    plt.tight_layout()\n",
    "    plt.show()\n",
    "except PortApiError as e:\n",
    "    print(f\"❌ Error creating visualization: {e}\")"
   ]
  },
  {
   "cell_type": "markdown",
   "metadata": {},
   "source": [
    "## Summary\n",
    "\n",
    "In this notebook, we've demonstrated the basic usage of the PyPort library:\n",
    "\n",
    "1. Initializing the client\n",
    "2. Getting blueprints and their details\n",
    "3. Getting entities and their details\n",
    "4. Getting actions\n",
    "5. Visualizing entity distribution across blueprints\n",
    "\n",
    "These operations form the foundation for more advanced usage of the Port API through the PyPort library."
   ]
  }
 ],
 "metadata": {
  "kernelspec": {
   "display_name": "Python 3",
   "language": "python",
   "name": "python3"
  },
  "language_info": {
   "codemirror_mode": {
    "name": "ipython",
    "version": 3
   },
   "file_extension": ".py",
   "mimetype": "text/x-python",
   "name": "python",
   "nbconvert_exporter": "python",
   "pygments_lexer": "ipython3",
   "version": "3.8.10"
  }
 },
 "nbformat": 4,
 "nbformat_minor": 4
}
